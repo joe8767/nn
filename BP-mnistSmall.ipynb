{
 "cells": [
  {
   "cell_type": "markdown",
   "metadata": {},
   "source": [
    "# 用bp算法进行手写体识别(mnistSmall数据集)"
   ]
  },
  {
   "cell_type": "code",
   "execution_count": 1,
   "metadata": {
    "collapsed": false
   },
   "outputs": [],
   "source": [
    "import scipy.io as sio\n",
    "import numpy as np\n",
    "import random\n",
    "\n",
    "def sigmoid(x):\n",
    "    return 1 / (1+np.exp(-x))\n",
    "\n",
    "def dotSigmoid(x):\n",
    "    return sigmoid(x) * (1-sigmoid(x))"
   ]
  },
  {
   "cell_type": "code",
   "execution_count": 7,
   "metadata": {
    "collapsed": false,
    "slideshow": {
     "slide_type": "slide"
    }
   },
   "outputs": [
    {
     "name": "stdout",
     "output_type": "stream",
     "text": [
      "epoch:0\tcost:0.387012\tacc:0.798000\n",
      "epoch:1\tcost:0.229070\tacc:0.861000\n",
      "epoch:2\tcost:0.181121\tacc:0.878500\n",
      "epoch:3\tcost:0.158832\tacc:0.884500\n",
      "epoch:4\tcost:0.144728\tacc:0.890000\n",
      "epoch:5\tcost:0.134484\tacc:0.896500\n",
      "epoch:6\tcost:0.126653\tacc:0.899000\n",
      "epoch:7\tcost:0.120530\tacc:0.901500\n",
      "epoch:8\tcost:0.115650\tacc:0.903000\n",
      "epoch:9\tcost:0.111678\tacc:0.904000\n",
      "epoch:10\tcost:0.108377\tacc:0.905000\n",
      "epoch:11\tcost:0.105576\tacc:0.905500\n",
      "epoch:12\tcost:0.103155\tacc:0.906500\n",
      "epoch:13\tcost:0.101027\tacc:0.908500\n",
      "epoch:14\tcost:0.099129\tacc:0.910500\n",
      "epoch:15\tcost:0.097413\tacc:0.911500\n",
      "epoch:16\tcost:0.095843\tacc:0.912500\n",
      "epoch:17\tcost:0.094391\tacc:0.912500\n",
      "epoch:18\tcost:0.093037\tacc:0.914500\n",
      "epoch:19\tcost:0.091765\tacc:0.915000\n",
      "epoch:20\tcost:0.090564\tacc:0.915000\n",
      "epoch:21\tcost:0.089427\tacc:0.915000\n",
      "epoch:22\tcost:0.088349\tacc:0.916500\n",
      "epoch:23\tcost:0.087329\tacc:0.918000\n",
      "epoch:24\tcost:0.086363\tacc:0.918000\n",
      "epoch:25\tcost:0.085451\tacc:0.917500\n",
      "epoch:26\tcost:0.084590\tacc:0.917500\n",
      "epoch:27\tcost:0.083781\tacc:0.917500\n",
      "epoch:28\tcost:0.083022\tacc:0.917000\n",
      "epoch:29\tcost:0.082310\tacc:0.917000\n",
      "epoch:30\tcost:0.081644\tacc:0.917500\n",
      "epoch:31\tcost:0.081021\tacc:0.918000\n",
      "epoch:32\tcost:0.080438\tacc:0.918500\n",
      "epoch:33\tcost:0.079894\tacc:0.919500\n",
      "epoch:34\tcost:0.079384\tacc:0.919500\n",
      "epoch:35\tcost:0.078907\tacc:0.919500\n",
      "epoch:36\tcost:0.078461\tacc:0.920000\n",
      "epoch:37\tcost:0.078042\tacc:0.920500\n",
      "epoch:38\tcost:0.077650\tacc:0.920000\n",
      "epoch:39\tcost:0.077283\tacc:0.921500\n",
      "epoch:40\tcost:0.076937\tacc:0.922000\n",
      "epoch:41\tcost:0.076612\tacc:0.922500\n",
      "epoch:42\tcost:0.076303\tacc:0.923000\n",
      "epoch:43\tcost:0.076009\tacc:0.922500\n",
      "epoch:44\tcost:0.075726\tacc:0.922000\n",
      "epoch:45\tcost:0.075452\tacc:0.921500\n",
      "epoch:46\tcost:0.075184\tacc:0.921000\n",
      "epoch:47\tcost:0.074919\tacc:0.920500\n",
      "epoch:48\tcost:0.074657\tacc:0.920500\n",
      "epoch:49\tcost:0.074394\tacc:0.921000\n"
     ]
    }
   ],
   "source": [
    "# mini batch\n",
    "# load data\n",
    "filePath = 'E:\\zy\\DataSets\\MNIST\\mnistSmall\\mnistSmall.mat'\n",
    "data = sio.loadmat(filePath)\n",
    "trainData = data['trainData']\n",
    "trainLabel = data['trainLabels']\n",
    "\n",
    "testData = data['testData']\n",
    "testLabel = data['testLabels']\n",
    "m = trainData.shape[0]\n",
    "\n",
    "# initial parameters\n",
    "W1 = (2 * np.random.random((784, 200)) - 1) * 0.1\n",
    "W2 = (2 * np.random.random((200, 10)) - 1) * 0.1\n",
    "alpha = 0.8\n",
    "batch_size = 100\n",
    "epoch_num = 100\n",
    "for i in xrange(epoch_num):\n",
    "    # generate randperm\n",
    "    r = range(m)\n",
    "    perm = random.shuffle(r)\n",
    "    for j in xrange(m/batch_size):\n",
    "        # feedforward\n",
    "        a1 = trainData[j*batch_size:(j+1)*batch_size, :]\n",
    "        z2 = np.dot(a1, W1)\n",
    "        a2 = sigmoid(z2)\n",
    "        z3 = np.dot(a2, W2)\n",
    "        a3 = sigmoid(z3)\n",
    "\n",
    "        #error\n",
    "        error = (a3 - trainLabel[j*batch_size:(j+1)*batch_size, :])\n",
    "        cost = np.sum(error**2)/batch_size\n",
    "        \n",
    "        #back propagation\n",
    "        delta3 = error *  dotSigmoid(z3)\n",
    "        delta2 = np.dot(delta3, W2.T)\n",
    "        \n",
    "        dw3 = np.dot(a2.T, delta3)/batch_size\n",
    "        dw2 = np.dot(a1.T, delta2)/batch_size\n",
    "\n",
    "        #update\n",
    "        W2 -= (alpha * dw3)\n",
    "        W1 -= (alpha * dw2)\n",
    "    \n",
    "    # test\n",
    "    a1 = testData\n",
    "    z2 = np.dot(a1, W1)\n",
    "    a2 = sigmoid(z2)\n",
    "    z3 = np.dot(a2, W2)\n",
    "    a3 = sigmoid(z3)\n",
    "    output = np.argmax(a3, 1)\n",
    "    target = np.argmax(testLabel, 1)\n",
    "    acc = np.mean(output == target)\n",
    "    print \"epoch:%d\\tcost:%f\\tacc:%f\" % (i,cost, acc)"
   ]
  },
  {
   "cell_type": "code",
   "execution_count": null,
   "metadata": {
    "collapsed": true
   },
   "outputs": [],
   "source": []
  }
 ],
 "metadata": {
  "kernelspec": {
   "display_name": "Python 2",
   "language": "python",
   "name": "python2"
  },
  "language_info": {
   "codemirror_mode": {
    "name": "ipython",
    "version": 2
   },
   "file_extension": ".py",
   "mimetype": "text/x-python",
   "name": "python",
   "nbconvert_exporter": "python",
   "pygments_lexer": "ipython2",
   "version": "2.7.9"
  }
 },
 "nbformat": 4,
 "nbformat_minor": 0
}
